{
 "cells": [
  {
   "cell_type": "code",
   "execution_count": 1,
   "id": "d0e73069",
   "metadata": {},
   "outputs": [],
   "source": [
    "import pandas as pd\n",
    "import numpy as np\n",
    "import matplotlib.pyplot as plot\n",
    "from scipy.stats import mode\n",
    "import statistics"
   ]
  },
  {
   "cell_type": "code",
   "execution_count": 19,
   "id": "032d44b7",
   "metadata": {},
   "outputs": [
    {
     "name": "stdout",
     "output_type": "stream",
     "text": [
      "k value :  9\n",
      "Number of correctly classified instances:  405 total number of instances  412\n",
      "Accuracy :  98.30097087378641\n"
     ]
    }
   ],
   "source": [
    "#Loading data\n",
    "bankNote_data = pd.read_csv(\"BankNote_Authentication.csv\") \n",
    "\n",
    "bankNote_data = bankNote_data.sample(frac = 1)\n",
    "\n",
    "#splitting the data \n",
    "features = bankNote_data.iloc[:, 0:4]\n",
    "output = bankNote_data.iloc[:, -1]\n",
    "\n",
    "# 70%\n",
    "x_train = features[0:960]\n",
    "y_train = output[0:960]\n",
    "\n",
    "# 30%\n",
    "x_test = features[960:]\n",
    "y_test = output[960:]\n",
    "\n",
    "#normalization\n",
    "def mean_normalization(features):\n",
    "    means = x_train.mean()\n",
    "    stds = x_train.std()\n",
    "    features = (features - means) / stds\n",
    "    \n",
    "mean_normalization(features)    \n",
    "    \n",
    "def eucledian_distance(row1, row2):\n",
    "    distance = np.sqrt(np.sum((row1-row2)**2))\n",
    "    return distance\n",
    "\n",
    "\n",
    "def calc_accuracy(y_predict, y_test):\n",
    "    y_predict2 = np.array(y_predict)\n",
    "    y_test2 = np.array(y_test)\n",
    "    sum = 0\n",
    "    for i in range(len(y_test2)):\n",
    "        if y_predict2[i] == y_test2[i]:\n",
    "            sum += 1\n",
    "    return sum / len(y_predict2) * 100 , sum\n",
    "\n",
    "\n",
    "def predict(x_train, y_train, x_test, k):\n",
    "    y_predict = []\n",
    "     \n",
    "    for row in range(len(x_test)): \n",
    "        test_sample_distances = []\n",
    "         \n",
    "        for j in range(len(x_train)): \n",
    "            distance = eucledian_distance(x_train.iloc[j].values , x_test.iloc[row].values) \n",
    "            test_sample_distances.append(distance) \n",
    "        \n",
    "        sorted_distances = np.sort(test_sample_distances) \n",
    "        length = len(sorted_distances)\n",
    "        while(k < length) and (sorted_distances[k-1] == sorted_distances[k]):\n",
    "            k+=1\n",
    "            \n",
    "        first_k_indices = np.argsort(test_sample_distances)[:k]     \n",
    "        labels = y_train.iloc[first_k_indices]\n",
    "        #HANDLING THE TIE CASE \n",
    "        #the mode function always takes the first frequent number which is the nearest point to the target node\n",
    "        most_frequent = statistics.mode(labels)\n",
    "        y_predict.append(most_frequent)\n",
    "        \n",
    "    return y_predict\n",
    "\n",
    "\n",
    "\n",
    "def printing(k):\n",
    "    y_predict = predict(x_train, y_train, x_test, k)\n",
    "    print(\"k value : \", k)\n",
    "    accuracy, correct = calc_accuracy(y_test, y_predict)\n",
    "    print(\"Number of correctly classified instances: \", correct , \"total number of instances \" , len(y_test))\n",
    "    print(\"Accuracy : \", accuracy)\n",
    "    \n",
    "printing(1)\n",
    "#printing(2)\n",
    "#printing(3)\n",
    "#printing(4)\n",
    "#printing(5)\n",
    "#printing(6)\n",
    "#printing(7)\n",
    "#printing(8)\n",
    "#printing(9)\n"
   ]
  },
  {
   "cell_type": "code",
   "execution_count": null,
   "id": "f4c80ad6",
   "metadata": {},
   "outputs": [],
   "source": []
  }
 ],
 "metadata": {
  "kernelspec": {
   "display_name": "Python 3 (ipykernel)",
   "language": "python",
   "name": "python3"
  },
  "language_info": {
   "codemirror_mode": {
    "name": "ipython",
    "version": 3
   },
   "file_extension": ".py",
   "mimetype": "text/x-python",
   "name": "python",
   "nbconvert_exporter": "python",
   "pygments_lexer": "ipython3",
   "version": "3.9.13"
  }
 },
 "nbformat": 4,
 "nbformat_minor": 5
}
